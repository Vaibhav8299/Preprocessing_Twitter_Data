{
 "cells": [
  {
   "cell_type": "code",
   "execution_count": null,
   "metadata": {
    "id": "lU3gMCHbwWKJ"
   },
   "outputs": [],
   "source": [
    "# NLP task\n",
    "\n",
    "sentiment analysis\n",
    "language translation\n",
    "sequemce matching\n",
    "document classification\n",
    "topic modeling\n",
    "named entity recognition\n",
    "pos tagging\n",
    "chatbot\n",
    "text summarization\n",
    "question - answering"
   ]
  },
  {
   "cell_type": "markdown",
   "metadata": {
    "id": "heysZhB-5InB"
   },
   "source": [
    "##pos tagging"
   ]
  },
  {
   "cell_type": "code",
   "execution_count": null,
   "metadata": {
    "id": "sLCT1PNj5Dfj"
   },
   "outputs": [],
   "source": [
    "# part of speech"
   ]
  },
  {
   "cell_type": "code",
   "execution_count": 1,
   "metadata": {
    "id": "Ef_tUbbQ7vof"
   },
   "outputs": [],
   "source": [
    "import spacy"
   ]
  },
  {
   "cell_type": "code",
   "execution_count": 2,
   "metadata": {
    "id": "oFhEV6HO7vsE"
   },
   "outputs": [],
   "source": [
    "nlp = spacy.load('en_core_web_sm')"
   ]
  },
  {
   "cell_type": "code",
   "execution_count": 3,
   "metadata": {
    "id": "nG-163EN5J83"
   },
   "outputs": [],
   "source": [
    "text = \"Bill gates founded Microsoft.\"\n",
    "\n",
    "doc = nlp(text)"
   ]
  },
  {
   "cell_type": "code",
   "execution_count": 6,
   "metadata": {
    "colab": {
     "base_uri": "https://localhost:8080/",
     "height": 35
    },
    "id": "06abnCJu8BKL",
    "outputId": "1ace416a-8bab-4731-8f9b-35f0bd41b400"
   },
   "outputs": [
    {
     "data": {
      "application/vnd.google.colaboratory.intrinsic+json": {
       "type": "string"
      },
      "text/plain": [
       "'PROPN'"
      ]
     },
     "execution_count": 6,
     "metadata": {},
     "output_type": "execute_result"
    }
   ],
   "source": [
    "doc[0].pos_"
   ]
  },
  {
   "cell_type": "code",
   "execution_count": 7,
   "metadata": {
    "colab": {
     "base_uri": "https://localhost:8080/",
     "height": 35
    },
    "id": "jCzePpBv8BN4",
    "outputId": "5657c00c-cbe6-4824-dc5f-83c7e5d3b9aa"
   },
   "outputs": [
    {
     "data": {
      "application/vnd.google.colaboratory.intrinsic+json": {
       "type": "string"
      },
      "text/plain": [
       "'proper noun'"
      ]
     },
     "execution_count": 7,
     "metadata": {},
     "output_type": "execute_result"
    }
   ],
   "source": [
    "spacy.explain('PROPN')"
   ]
  },
  {
   "cell_type": "code",
   "execution_count": 8,
   "metadata": {
    "colab": {
     "base_uri": "https://localhost:8080/"
    },
    "id": "CKXzmEqI5DjA",
    "outputId": "21916a95-f43e-44be-c979-5096aa746076"
   },
   "outputs": [
    {
     "name": "stdout",
     "output_type": "stream",
     "text": [
      "Bill => PROPN => proper noun\n",
      "gates => NOUN => noun\n",
      "founded => VERB => verb\n",
      "Microsoft => PROPN => proper noun\n",
      ". => PUNCT => punctuation\n"
     ]
    }
   ],
   "source": [
    "for token in doc:\n",
    "  print(token, '=>', token.pos_, '=>', spacy.explain(token.pos_))"
   ]
  },
  {
   "cell_type": "code",
   "execution_count": 10,
   "metadata": {
    "colab": {
     "base_uri": "https://localhost:8080/"
    },
    "id": "6B9Zgq3c8m5h",
    "outputId": "eaa3427b-9bd2-4aeb-e6a9-b66e20d16a62"
   },
   "outputs": [
    {
     "name": "stdout",
     "output_type": "stream",
     "text": [
      "$ => symbol, currency\n",
      "'' => closing quotation mark\n",
      ", => punctuation mark, comma\n",
      "-LRB- => left round bracket\n",
      "-RRB- => right round bracket\n",
      ". => punctuation mark, sentence closer\n",
      ": => punctuation mark, colon or ellipsis\n",
      "ADD => email\n",
      "AFX => affix\n",
      "CC => conjunction, coordinating\n",
      "CD => cardinal number\n",
      "DT => determiner\n",
      "EX => existential there\n",
      "FW => foreign word\n",
      "HYPH => punctuation mark, hyphen\n",
      "IN => conjunction, subordinating or preposition\n",
      "JJ => adjective (English), other noun-modifier (Chinese)\n",
      "JJR => adjective, comparative\n",
      "JJS => adjective, superlative\n",
      "LS => list item marker\n",
      "MD => verb, modal auxiliary\n",
      "NFP => superfluous punctuation\n",
      "NN => noun, singular or mass\n",
      "NNP => noun, proper singular\n",
      "NNPS => noun, proper plural\n",
      "NNS => noun, plural\n",
      "PDT => predeterminer\n",
      "POS => possessive ending\n",
      "PRP => pronoun, personal\n",
      "PRP$ => pronoun, possessive\n",
      "RB => adverb\n",
      "RBR => adverb, comparative\n",
      "RBS => adverb, superlative\n",
      "RP => adverb, particle\n",
      "SYM => symbol\n",
      "TO => infinitival \"to\"\n",
      "UH => interjection\n",
      "VB => verb, base form\n",
      "VBD => verb, past tense\n",
      "VBG => verb, gerund or present participle\n",
      "VBN => verb, past participle\n",
      "VBP => verb, non-3rd person singular present\n",
      "VBZ => verb, 3rd person singular present\n",
      "WDT => wh-determiner\n",
      "WP => wh-pronoun, personal\n",
      "WP$ => wh-pronoun, possessive\n",
      "WRB => wh-adverb\n",
      "XX => unknown\n",
      "_SP => whitespace\n",
      "`` => opening quotation mark\n"
     ]
    }
   ],
   "source": [
    "for tag in nlp.get_pipe(\"tagger\").labels:\n",
    "  print(tag, \"=>\" ,spacy.explain(tag))"
   ]
  },
  {
   "cell_type": "code",
   "execution_count": 11,
   "metadata": {
    "colab": {
     "base_uri": "https://localhost:8080/"
    },
    "id": "OmT0OZMv8m7i",
    "outputId": "6d866f72-85e3-4746-bfa6-faf3920a524a"
   },
   "outputs": [
    {
     "name": "stdout",
     "output_type": "stream",
     "text": [
      "$ => SYM => symbol\n",
      "1 => NUM => numeral\n",
      "billion => NUM => numeral\n",
      "is => AUX => auxiliary\n",
      "the => DET => determiner\n",
      "price => NOUN => noun\n",
      "for => ADP => adposition\n",
      "something => PRON => pronoun\n"
     ]
    }
   ],
   "source": [
    "text = \"$1 billion is the price for something\"\n",
    "\n",
    "doc = nlp(text)\n",
    "for token in doc:\n",
    "  print(token, '=>', token.pos_, '=>', spacy.explain(token.pos_))"
   ]
  },
  {
   "cell_type": "code",
   "execution_count": 12,
   "metadata": {
    "id": "kyjgf9bY9a7z"
   },
   "outputs": [],
   "source": [
    "text= 'ग्लेशियर नेशनल पार्क अमेरिकी राष्ट्रीय उद्यान है, जो कि कनाडा-संयुक्त राज्य अमेरिका की सीमा पर स्थित है। उद्यान संयुक्त राज्य के उत्तर-पश्चिमी मोंटाना राज्य में स्थित है और कनाडा की ओर अल्बर्टा और ब्रिटिश कोलम्बिया प्रांतों से सटा हुआ है।'"
   ]
  },
  {
   "cell_type": "code",
   "execution_count": 13,
   "metadata": {
    "colab": {
     "base_uri": "https://localhost:8080/"
    },
    "id": "fCqY4HVa9a_P",
    "outputId": "e7a5262d-4e6a-4512-8eca-00af55c43152"
   },
   "outputs": [
    {
     "name": "stdout",
     "output_type": "stream",
     "text": [
      "ग्लेशियर => X => other\n",
      "नेशनल => PUNCT => punctuation\n",
      "पार्क => PROPN => proper noun\n",
      "अमेरिकी => NOUN => noun\n",
      "राष्ट्रीय => PROPN => proper noun\n",
      "उद्यान => PROPN => proper noun\n",
      "है => NUM => numeral\n",
      ", => PUNCT => punctuation\n",
      "जो => PROPN => proper noun\n",
      "कि => NOUN => noun\n",
      "कनाडा => PROPN => proper noun\n",
      "- => PUNCT => punctuation\n",
      "संयुक्त => ADJ => adjective\n",
      "राज्य => PROPN => proper noun\n",
      "अमेरिका => PROPN => proper noun\n",
      "की => PROPN => proper noun\n",
      "सीमा => PROPN => proper noun\n",
      "पर => PROPN => proper noun\n",
      "स्थित => PROPN => proper noun\n",
      "है => PROPN => proper noun\n",
      "। => PROPN => proper noun\n",
      "उद्यान => PROPN => proper noun\n",
      "संयुक्त => PROPN => proper noun\n",
      "राज्य => PROPN => proper noun\n",
      "के => X => other\n",
      "उत्तर => PROPN => proper noun\n",
      "- => PUNCT => punctuation\n",
      "पश्चिमी => PUNCT => punctuation\n",
      "मोंटाना => NOUN => noun\n",
      "राज्य => PROPN => proper noun\n",
      "में => PROPN => proper noun\n",
      "स्थित => PROPN => proper noun\n",
      "है => PROPN => proper noun\n",
      "और => PROPN => proper noun\n",
      "कनाडा => PUNCT => punctuation\n",
      "की => PROPN => proper noun\n",
      "ओर => PROPN => proper noun\n",
      "अल्बर्टा => PROPN => proper noun\n",
      "और => ADV => adverb\n",
      "ब्रिटिश => VERB => verb\n",
      "कोलम्बिया => PROPN => proper noun\n",
      "प्रांतों => NUM => numeral\n",
      "से => NOUN => noun\n",
      "सटा => PROPN => proper noun\n",
      "हुआ => X => other\n",
      "है => NUM => numeral\n",
      "। => NOUN => noun\n"
     ]
    }
   ],
   "source": [
    "doc = nlp(text)\n",
    "for token in doc:\n",
    "  print(token, '=>', token.pos_, '=>', spacy.explain(token.pos_))"
   ]
  },
  {
   "cell_type": "code",
   "execution_count": null,
   "metadata": {
    "id": "GKIFFQ0_8m-6"
   },
   "outputs": [],
   "source": []
  },
  {
   "cell_type": "code",
   "execution_count": null,
   "metadata": {
    "id": "yyacFNIi-sXn"
   },
   "outputs": [],
   "source": [
    "#evaluation metrics :\n",
    "it is a token classification task :\n",
    "classification metrics are used : accuracy, precision, recall, f1"
   ]
  },
  {
   "cell_type": "markdown",
   "metadata": {
    "id": "g3ce6eGP-vJA"
   },
   "source": [
    "##NER"
   ]
  },
  {
   "cell_type": "code",
   "execution_count": null,
   "metadata": {
    "id": "hi1Bd5vC-sZU"
   },
   "outputs": [],
   "source": [
    "#named entity recognition"
   ]
  },
  {
   "cell_type": "code",
   "execution_count": 14,
   "metadata": {
    "id": "JzD04YM3_UDl"
   },
   "outputs": [],
   "source": [
    "text = \"Bill gates founded Microsoft.\""
   ]
  },
  {
   "cell_type": "code",
   "execution_count": null,
   "metadata": {
    "id": "3ZINxWJH_UHJ"
   },
   "outputs": [],
   "source": [
    "elon musk is ceo of tesla.\n",
    "\n",
    "nikola tesla was a great inventor."
   ]
  },
  {
   "cell_type": "code",
   "execution_count": null,
   "metadata": {
    "id": "rz0NaGbD_o6M"
   },
   "outputs": [],
   "source": [
    "apple"
   ]
  },
  {
   "cell_type": "code",
   "execution_count": 2,
   "metadata": {
    "id": "FvBb4-z-_o9u"
   },
   "outputs": [],
   "source": [
    "import spacy\n",
    "\n",
    "ner = spacy.load('en_core_web_sm')"
   ]
  },
  {
   "cell_type": "code",
   "execution_count": 3,
   "metadata": {
    "id": "UYwrzBxn_1tP"
   },
   "outputs": [],
   "source": [
    "doc = ner(text)"
   ]
  },
  {
   "cell_type": "code",
   "execution_count": 19,
   "metadata": {
    "colab": {
     "base_uri": "https://localhost:8080/"
    },
    "id": "P0n_LpyzAbyt",
    "outputId": "7e256676-c1e7-49c6-e0a2-33a78bbba9aa"
   },
   "outputs": [
    {
     "data": {
      "text/plain": [
       "Bill"
      ]
     },
     "execution_count": 19,
     "metadata": {},
     "output_type": "execute_result"
    }
   ],
   "source": [
    "doc[0]"
   ]
  },
  {
   "cell_type": "code",
   "execution_count": 20,
   "metadata": {
    "colab": {
     "base_uri": "https://localhost:8080/"
    },
    "id": "RvM05Fi5_1wr",
    "outputId": "80e1c89b-6547-4e04-c721-8c2ba2f60a5d"
   },
   "outputs": [
    {
     "data": {
      "text/plain": [
       "spacy.tokens.token.Token"
      ]
     },
     "execution_count": 20,
     "metadata": {},
     "output_type": "execute_result"
    }
   ],
   "source": [
    "type(doc[0])"
   ]
  },
  {
   "cell_type": "code",
   "execution_count": 21,
   "metadata": {
    "colab": {
     "base_uri": "https://localhost:8080/"
    },
    "id": "LEPlN5eY-scu",
    "outputId": "3eea0458-f1b7-4c31-d52b-38b20c97043a"
   },
   "outputs": [
    {
     "data": {
      "text/plain": [
       "spacy.tokens.span.Span"
      ]
     },
     "execution_count": 21,
     "metadata": {},
     "output_type": "execute_result"
    }
   ],
   "source": [
    "type(doc[0:3])"
   ]
  },
  {
   "cell_type": "code",
   "execution_count": null,
   "metadata": {
    "id": "3LXtbl3kCN2c"
   },
   "outputs": [],
   "source": []
  },
  {
   "cell_type": "code",
   "execution_count": null,
   "metadata": {
    "id": "1JvpHW76A5ZG"
   },
   "outputs": [],
   "source": []
  },
  {
   "cell_type": "code",
   "execution_count": 26,
   "metadata": {
    "colab": {
     "base_uri": "https://localhost:8080/"
    },
    "id": "eGypbCK_Anj_",
    "outputId": "fb70b8b6-35c4-4703-92fe-827ca3d945c1"
   },
   "outputs": [
    {
     "name": "stdout",
     "output_type": "stream",
     "text": [
      "Bill => PERSON\n",
      "Microsoft => ORG\n"
     ]
    }
   ],
   "source": [
    "for entity in doc.ents:\n",
    "  print(entity.text,'=>' ,entity.label_)"
   ]
  },
  {
   "cell_type": "code",
   "execution_count": 28,
   "metadata": {
    "id": "CYpUGdGRAnmG"
   },
   "outputs": [],
   "source": [
    "from spacy import displacy"
   ]
  },
  {
   "cell_type": "code",
   "execution_count": 32,
   "metadata": {
    "id": "NvbbaO_PBgme"
   },
   "outputs": [],
   "source": [
    "text1 = doc.ents"
   ]
  },
  {
   "cell_type": "code",
   "execution_count": 33,
   "metadata": {
    "colab": {
     "base_uri": "https://localhost:8080/",
     "height": 87
    },
    "id": "ra1RVUBAAnpc",
    "outputId": "25bf5141-e4e9-4984-fa59-4cf3edf4a651"
   },
   "outputs": [
    {
     "data": {
      "text/html": [
       "<span class=\"tex2jax_ignore\"><div class=\"entities\" style=\"line-height: 2.5; direction: ltr\">\n",
       "<mark class=\"entity\" style=\"background: #aa9cfc; padding: 0.45em 0.6em; margin: 0 0.25em; line-height: 1; border-radius: 0.35em;\">\n",
       "    Bill\n",
       "    <span style=\"font-size: 0.8em; font-weight: bold; line-height: 1; border-radius: 0.35em; vertical-align: middle; margin-left: 0.5rem\">PERSON</span>\n",
       "</mark>\n",
       " </div>\n",
       "\n",
       "<div class=\"entities\" style=\"line-height: 2.5; direction: ltr\">\n",
       "<mark class=\"entity\" style=\"background: #7aecec; padding: 0.45em 0.6em; margin: 0 0.25em; line-height: 1; border-radius: 0.35em;\">\n",
       "    Microsoft\n",
       "    <span style=\"font-size: 0.8em; font-weight: bold; line-height: 1; border-radius: 0.35em; vertical-align: middle; margin-left: 0.5rem\">ORG</span>\n",
       "</mark>\n",
       "</div></span>"
      ],
      "text/plain": [
       "<IPython.core.display.HTML object>"
      ]
     },
     "metadata": {},
     "output_type": "display_data"
    }
   ],
   "source": [
    "displacy.render(text1, style='ent', jupyter=True)"
   ]
  },
  {
   "cell_type": "code",
   "execution_count": 35,
   "metadata": {
    "colab": {
     "base_uri": "https://localhost:8080/"
    },
    "id": "HTcQshISBaas",
    "outputId": "983da679-084c-4cc4-d28d-046bdb2651e8"
   },
   "outputs": [
    {
     "name": "stdout",
     "output_type": "stream",
     "text": [
      "CARDINAL => Numerals that do not fall under another type\n",
      "DATE => Absolute or relative dates or periods\n",
      "EVENT => Named hurricanes, battles, wars, sports events, etc.\n",
      "FAC => Buildings, airports, highways, bridges, etc.\n",
      "GPE => Countries, cities, states\n",
      "LANGUAGE => Any named language\n",
      "LAW => Named documents made into laws.\n",
      "LOC => Non-GPE locations, mountain ranges, bodies of water\n",
      "MONEY => Monetary values, including unit\n",
      "NORP => Nationalities or religious or political groups\n",
      "ORDINAL => \"first\", \"second\", etc.\n",
      "ORG => Companies, agencies, institutions, etc.\n",
      "PERCENT => Percentage, including \"%\"\n",
      "PERSON => People, including fictional\n",
      "PRODUCT => Objects, vehicles, foods, etc. (not services)\n",
      "QUANTITY => Measurements, as of weight or distance\n",
      "TIME => Times smaller than a day\n",
      "WORK_OF_ART => Titles of books, songs, etc.\n"
     ]
    }
   ],
   "source": [
    "for ent in ner.get_pipe('ner').labels:\n",
    "  print(ent, '=>', spacy.explain(ent))"
   ]
  },
  {
   "cell_type": "code",
   "execution_count": 36,
   "metadata": {
    "colab": {
     "base_uri": "https://localhost:8080/"
    },
    "id": "-UZqwpgsBq9p",
    "outputId": "bc762863-3670-4d0f-f70c-ae600fe928b6"
   },
   "outputs": [
    {
     "name": "stdout",
     "output_type": "stream",
     "text": [
      "Tesla => ORG\n"
     ]
    }
   ],
   "source": [
    "text = 'Elon musk is a CEO of Tesla'\n",
    "\n",
    "doc = ner(text)\n",
    "for entity in doc.ents:\n",
    "  print(entity.text,'=>' ,entity.label_)"
   ]
  },
  {
   "cell_type": "code",
   "execution_count": 9,
   "metadata": {
    "id": "SJSC_tLlBrBJ"
   },
   "outputs": [
    {
     "name": "stdout",
     "output_type": "stream",
     "text": [
      "IBM => ORG\n"
     ]
    }
   ],
   "source": [
    "text = 'we are learning in IBM'\n",
    "\n",
    "doc = ner(text)\n",
    "for entity in doc.ents:\n",
    "  print(entity.text,'=>' ,entity.label_)"
   ]
  },
  {
   "cell_type": "code",
   "execution_count": null,
   "metadata": {
    "id": "Gt8hduToCjGW"
   },
   "outputs": [],
   "source": [
    "# ways to build NER on custom entities\n",
    "\n",
    "1) dictionary\n",
    "2) Rule based : entityruler --> pattern based\n",
    "3) ML : finetuning of spacy3 model. use BERT model"
   ]
  },
  {
   "cell_type": "code",
   "execution_count": 6,
   "metadata": {
    "id": "MBR34jrYCpeq"
   },
   "outputs": [],
   "source": [
    "tags= {\"IBM\":\"ORG\"}"
   ]
  },
  {
   "cell_type": "code",
   "execution_count": 11,
   "metadata": {
    "colab": {
     "base_uri": "https://localhost:8080/"
    },
    "id": "lqEiqrNvD4gq",
    "outputId": "57bba6ad-a103-403a-9398-16e12afe6728"
   },
   "outputs": [
    {
     "data": {
      "text/plain": [
       "IBM"
      ]
     },
     "execution_count": 11,
     "metadata": {},
     "output_type": "execute_result"
    }
   ],
   "source": [
    "doc[4:5]"
   ]
  },
  {
   "cell_type": "code",
   "execution_count": 58,
   "metadata": {
    "id": "Bb4jkmnOEHXR"
   },
   "outputs": [],
   "source": [
    "from spacy.tokens import Span"
   ]
  },
  {
   "cell_type": "code",
   "execution_count": 59,
   "metadata": {
    "id": "qaGu14EyCpiH"
   },
   "outputs": [],
   "source": [
    "span1 = Span(doc, 4, 5, label=\"ORG\")\n",
    "\n",
    "# span2 = Span(doc, 4, 5, label=\"ORG\")"
   ]
  },
  {
   "cell_type": "code",
   "execution_count": 60,
   "metadata": {
    "id": "GrfiuTHyDnSd"
   },
   "outputs": [],
   "source": [
    "doc.set_ents([span1], default=\"unmodified\")"
   ]
  },
  {
   "cell_type": "code",
   "execution_count": 12,
   "metadata": {
    "colab": {
     "base_uri": "https://localhost:8080/"
    },
    "id": "XfGmh_jEDnWA",
    "outputId": "98ab3cf2-460b-4b15-a1a0-8343774151c0"
   },
   "outputs": [
    {
     "name": "stdout",
     "output_type": "stream",
     "text": [
      "IBM => ORG\n"
     ]
    }
   ],
   "source": [
    "# text = 'we are learning in IBM'\n",
    "\n",
    "# doc = ner(text)\n",
    "for entity in doc.ents:\n",
    "  print(entity.text,'=>' ,entity.label_)"
   ]
  },
  {
   "cell_type": "code",
   "execution_count": 13,
   "metadata": {
    "id": "eTdQnmZLE58L"
   },
   "outputs": [
    {
     "name": "stdout",
     "output_type": "stream",
     "text": [
      "IBM => ORG\n"
     ]
    }
   ],
   "source": [
    "# text = 'we are learning in IBM'\n",
    "\n",
    "# doc = ner(text)\n",
    "for entity in doc.ents:\n",
    "  print(entity.text,'=>' ,entity.label_)"
   ]
  },
  {
   "cell_type": "code",
   "execution_count": null,
   "metadata": {
    "id": "q03AxnmJFTaV"
   },
   "outputs": [],
   "source": []
  },
  {
   "cell_type": "code",
   "execution_count": null,
   "metadata": {
    "id": "Yw_i7MbDFgdy"
   },
   "outputs": [],
   "source": [
    "##EntityRuler"
   ]
  },
  {
   "cell_type": "code",
   "execution_count": 1,
   "metadata": {
    "id": "gTwyICqjI_OF"
   },
   "outputs": [],
   "source": [
    "import spacy"
   ]
  },
  {
   "cell_type": "code",
   "execution_count": 2,
   "metadata": {
    "id": "K0r_PuOeGa18"
   },
   "outputs": [],
   "source": [
    "ner = spacy.load('en_core_web_sm')"
   ]
  },
  {
   "cell_type": "code",
   "execution_count": 3,
   "metadata": {
    "colab": {
     "base_uri": "https://localhost:8080/"
    },
    "id": "bAhEoHN7JCP8",
    "outputId": "ed3c8b75-bdda-4797-b789-1de1998c22e1"
   },
   "outputs": [
    {
     "data": {
      "text/plain": [
       "['tok2vec', 'tagger', 'parser', 'attribute_ruler', 'lemmatizer', 'ner']"
      ]
     },
     "execution_count": 3,
     "metadata": {},
     "output_type": "execute_result"
    }
   ],
   "source": [
    "ner.pipe_names"
   ]
  },
  {
   "cell_type": "code",
   "execution_count": 28,
   "metadata": {
    "id": "b-jHER3KJPSu"
   },
   "outputs": [],
   "source": [
    "text = 'we are learning in Velocity, 8756787654 phone no is 9876543210'\n",
    "\n",
    "doc = ner(text)"
   ]
  },
  {
   "cell_type": "code",
   "execution_count": 15,
   "metadata": {
    "colab": {
     "base_uri": "https://localhost:8080/"
    },
    "id": "jT-GJl-gJSoi",
    "outputId": "631ebc4e-fa94-4dce-b99c-437ffd7501fc"
   },
   "outputs": [
    {
     "data": {
      "text/plain": [
       "we"
      ]
     },
     "execution_count": 15,
     "metadata": {},
     "output_type": "execute_result"
    }
   ],
   "source": [
    "doc[0]"
   ]
  },
  {
   "cell_type": "code",
   "execution_count": 16,
   "metadata": {
    "id": "P_0gSPMkFTd9"
   },
   "outputs": [],
   "source": [
    "from spacy.pipeline import EntityRuler"
   ]
  },
  {
   "cell_type": "code",
   "execution_count": 67,
   "metadata": {
    "id": "Cpgb64c7FjC4"
   },
   "outputs": [],
   "source": [
    "# nlp = spacy.load('en_core_web_sm')"
   ]
  },
  {
   "cell_type": "code",
   "execution_count": 24,
   "metadata": {
    "id": "XBv9SpE3FjGf"
   },
   "outputs": [],
   "source": [
    "pattern =[{'label':\"PHONE_NO\", \"pattern\" :[{'TEXT' : {'REGEX' : \"[0-9]{10}\"}}]}]"
   ]
  },
  {
   "cell_type": "code",
   "execution_count": 17,
   "metadata": {
    "id": "uFHVL_vVH6Ug"
   },
   "outputs": [],
   "source": [
    "# pattern =[{'label':\"PHONE\", \"pattern\" : \"+91-9876543210\"}]"
   ]
  },
  {
   "cell_type": "code",
   "execution_count": 19,
   "metadata": {
    "id": "GeCv5FH2GSkB"
   },
   "outputs": [],
   "source": [
    "# ruler = ner.add_pipe(\"entity_ruler\", before='ner')"
   ]
  },
  {
   "cell_type": "code",
   "execution_count": 25,
   "metadata": {
    "id": "qdTxY_auGjzT"
   },
   "outputs": [],
   "source": [
    "ruler.add_patterns(pattern)"
   ]
  },
  {
   "cell_type": "code",
   "execution_count": 21,
   "metadata": {
    "colab": {
     "base_uri": "https://localhost:8080/"
    },
    "id": "43AGDUbUGj27",
    "outputId": "958f3e5b-78f5-4358-e1c4-98719eaadcf1"
   },
   "outputs": [
    {
     "data": {
      "text/plain": [
       "['tok2vec',\n",
       " 'tagger',\n",
       " 'parser',\n",
       " 'attribute_ruler',\n",
       " 'lemmatizer',\n",
       " 'entity_ruler',\n",
       " 'ner']"
      ]
     },
     "execution_count": 21,
     "metadata": {},
     "output_type": "execute_result"
    }
   ],
   "source": [
    "ner.pipe_names"
   ]
  },
  {
   "cell_type": "code",
   "execution_count": 30,
   "metadata": {
    "id": "a9EJ5fyTG58k"
   },
   "outputs": [],
   "source": [
    "new_ner = ner(doc)"
   ]
  },
  {
   "cell_type": "code",
   "execution_count": 31,
   "metadata": {
    "colab": {
     "base_uri": "https://localhost:8080/"
    },
    "id": "7gySYmukG6AL",
    "outputId": "b5c8039e-2db2-4353-ee4a-2d907e82358d"
   },
   "outputs": [
    {
     "name": "stdout",
     "output_type": "stream",
     "text": [
      "Velocity GPE\n",
      "8756787654 PHONE_NO\n",
      "9876543210 PHONE_NO\n"
     ]
    }
   ],
   "source": [
    "for ent in new_ner.ents:\n",
    "  print(ent.text, ent.label_)"
   ]
  },
  {
   "cell_type": "code",
   "execution_count": 29,
   "metadata": {
    "colab": {
     "base_uri": "https://localhost:8080/"
    },
    "id": "IQZfIXBaIQ2a",
    "outputId": "01ff5e8f-b9e5-4e7c-9062-d8d73fad1718"
   },
   "outputs": [
    {
     "data": {
      "text/plain": [
       "['tok2vec', 'tagger', 'parser', 'attribute_ruler', 'lemmatizer', 'ner']"
      ]
     },
     "execution_count": 29,
     "metadata": {},
     "output_type": "execute_result"
    }
   ],
   "source": [
    "import spacy\n",
    "nlp22 = spacy.load(\"en_core_web_sm\")\n",
    "\n",
    "nlp22.pipe_names"
   ]
  },
  {
   "cell_type": "code",
   "execution_count": null,
   "metadata": {
    "colab": {
     "base_uri": "https://localhost:8080/"
    },
    "id": "vubM4EofIkGr",
    "outputId": "ed775376-71f5-49a1-fafa-606c5cdab54a"
   },
   "outputs": [],
   "source": []
  },
  {
   "cell_type": "code",
   "execution_count": null,
   "metadata": {
    "id": "M8-VKExZInre"
   },
   "outputs": [],
   "source": []
  },
  {
   "cell_type": "code",
   "execution_count": null,
   "metadata": {
    "id": "3h7lWTEtKQ_c"
   },
   "outputs": [],
   "source": []
  },
  {
   "cell_type": "code",
   "execution_count": null,
   "metadata": {
    "id": "eff1QFiOKRDH"
   },
   "outputs": [],
   "source": []
  }
 ],
 "metadata": {
  "colab": {
   "provenance": []
  },
  "kernelspec": {
   "display_name": "Python 3 (ipykernel)",
   "language": "python",
   "name": "python3"
  },
  "language_info": {
   "codemirror_mode": {
    "name": "ipython",
    "version": 3
   },
   "file_extension": ".py",
   "mimetype": "text/x-python",
   "name": "python",
   "nbconvert_exporter": "python",
   "pygments_lexer": "ipython3",
   "version": "3.11.5"
  }
 },
 "nbformat": 4,
 "nbformat_minor": 1
}
